{
 "cells": [
  {
   "cell_type": "markdown",
   "id": "32866f66",
   "metadata": {
    "colab_type": "text",
    "id": "view-in-github"
   },
   "source": [
    "<a href=\"https://colab.research.google.com/github/bezhvin/Optimization-with-Tensorflow/blob/main/SimpleExampleNoConstraint.ipynb\" target=\"_parent\"><img src=\"https://colab.research.google.com/assets/colab-badge.svg\" alt=\"Open In Colab\"/></a>"
   ]
  },
  {
   "cell_type": "code",
   "execution_count": 121,
   "id": "28fac8df",
   "metadata": {
    "id": "28fac8df"
   },
   "outputs": [],
   "source": [
    "import math\n",
    "import numpy as np\n",
    "from six.moves import xrange\n",
    "import tensorflow as tf\n",
    "import matplotlib.pyplot as plt\n",
    "from IPython.display import display, Math, Latex\n",
    "from scipy.stats import norm"
   ]
  },
  {
   "cell_type": "code",
   "execution_count": 29,
   "id": "ce91f13c",
   "metadata": {
    "id": "ce91f13c"
   },
   "outputs": [],
   "source": [
    "#!pip install git+https://github.com/google-research/tensorflow_constrained_optimization\n",
    "import tensorflow_constrained_optimization as tfco"
   ]
  },
  {
   "cell_type": "markdown",
   "id": "763f79dd",
   "metadata": {
    "id": "763f79dd"
   },
   "source": [
    "### Simple non constrained optimization"
   ]
  },
  {
   "cell_type": "markdown",
   "id": "54b18ef4",
   "metadata": {
    "id": "54b18ef4"
   },
   "source": [
    "Let's start with a simple example of fitting some coefficients for a quadratic function:\n",
    "$$y = ax^2 + bx+c$$\n",
    "This is basically a simple plynomial fitting and can be done mathematically as it is a convex optimization. But for the sake of illustration let's assume we want to the find proper prameters ${a,b,c}$ via some iterative gradient based optimization.\n",
    "Assuming the ground truth parameters are ${a=3, b=.5, and\\ c=4}$, we have\n",
    "$$y = 3x^2 + .5x+4$$\n",
    "Let's generate the training data with 50 samples:"
   ]
  },
  {
   "cell_type": "code",
   "execution_count": 30,
   "id": "9e60843e",
   "metadata": {
    "colab": {
     "base_uri": "https://localhost:8080/",
     "height": 296
    },
    "id": "9e60843e",
    "outputId": "ed924bf3-31cf-49dd-cb6f-7e7188e438c8"
   },
   "outputs": [
    {
     "data": {
      "text/plain": [
       "Text(0.5, 0, 'X')"
      ]
     },
     "execution_count": 30,
     "metadata": {},
     "output_type": "execute_result"
    },
    {
     "data": {
      "image/png": "[encoded data removed]",
      "text/plain": [
       "<Figure size 432x288 with 1 Axes>"
      ]
     },
     "metadata": {
      "needs_background": "light"
     },
     "output_type": "display_data"
    }
   ],
   "source": [
    "training_size = 50\n",
    "y_clean = lambda x: 3*x**2 + .5*x + 4 \n",
    "\n",
    "## randomly generating X\n",
    "X= np.random.uniform(low=-2, high=2,size=training_size).astype(np.float32) ## input \n",
    "## and then generating the corresponding y\n",
    "y = y_clean(X) + np.random.normal(size=training_size).astype(np.float32) # output --> we added some noise to make it more realistic\n",
    "## how does it look like?\n",
    "plt.scatter(X, y)\n",
    "plt.ylabel('y'); plt.xlabel('X')"
   ]
  },
  {
   "cell_type": "markdown",
   "id": "cc04250e",
   "metadata": {
    "id": "cc04250e"
   },
   "source": [
    "First, it is helpful to rewrite the problem in a matrix multiplication format \n",
    "$$y = AX $$\n",
    "this helps the code to be cleaner and is more inline with what tensorflow expects. In general we know computers are good at matrix multiplication so we always should try to frame our problems in this way!\n",
    "Thus, we can rewrite it as:\n",
    "\n",
    "$$\n",
    "y = \\begin{bmatrix}  \n",
    "a & b & c  \n",
    "\\end{bmatrix} \n",
    "\\begin{bmatrix}  \n",
    "x^2\\\\  \n",
    "x\\\\  \n",
    "1\\\\  \n",
    "\\end{bmatrix}$$"
   ]
  },
  {
   "cell_type": "code",
   "execution_count": 31,
   "id": "52d00341",
   "metadata": {
    "id": "52d00341"
   },
   "outputs": [],
   "source": [
    "# y=AX\n",
    "X_matrix = np.array([X**2, X, np.ones(X.size)]).T"
   ]
  },
  {
   "cell_type": "code",
   "execution_count": 32,
   "id": "48b39f74",
   "metadata": {
    "id": "48b39f74"
   },
   "outputs": [],
   "source": [
    "# making constant tensors for the training data\n",
    "y_ground_truth = tf.constant(y, dtype=tf.float32)\n",
    "X_ground_truth = tf.constant(X_matrix, dtype=tf.float32)"
   ]
  },
  {
   "cell_type": "code",
   "execution_count": 33,
   "id": "6c6ff572",
   "metadata": {
    "id": "6c6ff572"
   },
   "outputs": [],
   "source": [
    "# initializing the parameters a,b,and c as tensor variables\n",
    "# this is the variable which will be updated during the optimization\n",
    "weights = tf.Variable(tf.random_normal_initializer()(shape=[3], dtype=tf.float32))"
   ]
  },
  {
   "cell_type": "code",
   "execution_count": 34,
   "id": "13bbebd8",
   "metadata": {
    "id": "13bbebd8"
   },
   "outputs": [],
   "source": [
    "# the estimated y (or prediction for y) using the weights we want to optimize\n",
    "y_prediction = tf.tensordot(X_ground_truth, weights, axes=1)"
   ]
  },
  {
   "cell_type": "markdown",
   "id": "3585d002",
   "metadata": {
    "id": "3585d002"
   },
   "source": [
    "To optimize the parameters we need to define an objective function. actually we optimize the parameters with respect to this objective function. In our example, the least square could be helpful:\n",
    "$$ mean((y - y_{prediction})^2) $$"
   ]
  },
  {
   "cell_type": "code",
   "execution_count": 35,
   "id": "b9a78197",
   "metadata": {
    "id": "b9a78197"
   },
   "outputs": [],
   "source": [
    "## tensorflow has already made many of the known objective functions available, e.g. in tf.compat.v1.losses\n",
    "## but you may still wrtie down the objective formula yourself. Both ways are shown below\n",
    "def objective():\n",
    "    y_prediction = tf.tensordot(X_ground_truth, weights, axes=1)\n",
    "    return tf.math.reduce_mean((y_ground_truth - y_prediction)**2)\n",
    "#     return tf.compat.v1.losses.mean_squared_error(labels=y_ground_truth,\n",
    "#                                                  predictions=y_prediction)"
   ]
  },
  {
   "cell_type": "markdown",
   "id": "e448f57d",
   "metadata": {
    "id": "e448f57d"
   },
   "source": [
    "There are many gradient descent optimization algorithms and fortunately almost all are available in tensorflow. The choice of the algorithm depends on the task. In our example, all would work properly (some faster some slower)."
   ]
  },
  {
   "cell_type": "code",
   "execution_count": 36,
   "id": "dd6a290c",
   "metadata": {
    "colab": {
     "base_uri": "https://localhost:8080/"
    },
    "id": "dd6a290c",
    "outputId": "7244325f-987b-403a-a043-4016e52cad0f"
   },
   "outputs": [
    {
     "name": "stdout",
     "output_type": "stream",
     "text": [
      "the parameters are: [a, b, c] = [3.0566504  0.49964973 4.087926  ]\n"
     ]
    }
   ],
   "source": [
    "# optimization\n",
    "optimizer = tf.keras.optimizers.Adagrad(learning_rate=1.0)\n",
    "var_list=[weights]\n",
    "for ii in range(100):\n",
    "    optimizer.minimize(objective, var_list=var_list)\n",
    "    #print(weights.numpy()) --> activate if you want to see how the parameters get updated\n",
    "print(f'the parameters are: [a, b, c] = {(weights.numpy())}')"
   ]
  },
  {
   "cell_type": "markdown",
   "id": "98a90565",
   "metadata": {
    "id": "98a90565"
   },
   "source": [
    "These parameters are close to the ground truth coefficients, right? the small difference is due to the noise we added to the training data.\n",
    "\n",
    "Let's look at the fit then:"
   ]
  },
  {
   "cell_type": "code",
   "execution_count": 37,
   "id": "44126d90",
   "metadata": {},
   "outputs": [
    {
     "data": {
      "text/plain": [
       "<matplotlib.legend.Legend at 0x208885411f0>"
      ]
     },
     "execution_count": 37,
     "metadata": {},
     "output_type": "execute_result"
    },
    {
     "data": {
      "image/png": "[encoded data removed]",
      "text/plain": [
       "<Figure size 432x288 with 1 Axes>"
      ]
     },
     "metadata": {
      "needs_background": "light"
     },
     "output_type": "display_data"
    }
   ],
   "source": [
    "x=np.arange(-2,2,.1)\n",
    "y_estimated_no_constraint = weights[0]*x**2 + weights[1]*x + weights[2]\n",
    "\n",
    "plt.scatter(X, y, label='training samples')\n",
    "plt.plot(x,y_estimated_no_constraint, color='r', label='the fit model' )\n",
    "plt.ylabel('y'); plt.xlabel('X')\n",
    "plt.legend()"
   ]
  },
  {
   "cell_type": "markdown",
   "id": "118199e1",
   "metadata": {},
   "source": [
    "### Simple constrained optimization"
   ]
  },
  {
   "cell_type": "markdown",
   "id": "268b95c1",
   "metadata": {},
   "source": [
    "With constrained optimization you impose some constraints on the problem. It may be done in different ways; for example, you may want some parameters to be in a certain range, or a function of the paramaters follow a certain equation.\n",
    "Thanks to the TFCO interface, it is somewhat straightforward to implement. Let's try it then!\n",
    "\n",
    "\n",
    "In this section we practice two scenarios by imposing constraints on the curve fitting example above.\n",
    "In the first scenario, the constraint is directly applied on one of the parameters, say $c$ to be between  0 and 1:\n",
    "$$0<c<1$$\n",
    "\n",
    "before jumping into the code, let's highlight some points on how to frame your constrained optimization with TFCO:\n",
    "\n",
    "* The constraints should be formed as $a<0$. Therefore in this example, we have\n",
    "$$-c<0$$\n",
    "$$c-1<0$$\n",
    "thus, you are having 2 constraints from the TFCO view!\n",
    "* If you have multiple constraints, you need to stack them all.\n",
    "* We still use one of the gradient based optimization algorithms; however, in the framework of LagrangianOptimizer.\n",
    "* The LagrangianOptimizer introduces another coefficient (Lagrangian multiplier), which should be optimized together to the updatable parameters.\n",
    "\n",
    "Let's see how we can implement it. Please also note to the comments in the code."
   ]
  },
  {
   "cell_type": "code",
   "execution_count": 38,
   "id": "161aeb34",
   "metadata": {
    "id": "161aeb34"
   },
   "outputs": [],
   "source": [
    "# lets assume 0<c<1:\n",
    "class SimpleConstrainedProblem(tfco.ConstrainedMinimizationProblem): # inheriting from the tfco.ConstrainedMinimizationProblem\n",
    "    def __init__(self, y, weights):\n",
    "        self.y = y\n",
    "        self.weights = weights\n",
    "        \n",
    "    @property\n",
    "    def num_constraints(self):\n",
    "        return 2 # this refers to the 2 equations we derived for the constraints on c\n",
    "    \n",
    "    def objective(self): # like before, nothing is changed here\n",
    "        predictions = tf.tensordot(X_ground_truth, self.weights, axes=1)\n",
    "        return tf.compat.v1.losses.mean_squared_error(labels=self.y,\n",
    "                                                     predictions=predictions)\n",
    "    \n",
    "    def constraints(self): \n",
    "        a,b,c = self.weights\n",
    "        constraint_1 = c - 1 # constraint1 is c-1 < 0\n",
    "        constraint_2 = -c    # constraint2 is -c < 0\n",
    "        constraint = tf.stack([constraint_1, constraint_2]) # stacking the constraints\n",
    "        return constraint\n",
    "    "
   ]
  },
  {
   "cell_type": "code",
   "execution_count": 39,
   "id": "19359717",
   "metadata": {},
   "outputs": [],
   "source": [
    "## initializing the parameters\n",
    "weights = tf.Variable(tf.random_normal_initializer()(shape=[3], dtype=tf.float32))\n",
    "## instantiating the problem\n",
    "problem = SimpleConstrainedProblem(y_ground_truth, weights)"
   ]
  },
  {
   "cell_type": "code",
   "execution_count": 40,
   "id": "25cb0b24",
   "metadata": {},
   "outputs": [],
   "source": [
    "# from the TFCO interface\n",
    "optimizer = tfco.LagrangianOptimizer(tf.optimizers.Adagrad(learning_rate=1.),\n",
    "                                    num_constraints=problem.num_constraints)\n",
    "# all the parameters to be optimized, problem.trainable_variables contains a,b, and c and optimizer.trainable_variables() is\n",
    "# the Lagrangian multiplier\n",
    "var_list = list(problem.trainable_variables) + [optimizer.trainable_variables()]"
   ]
  },
  {
   "cell_type": "code",
   "execution_count": 41,
   "id": "0786d647",
   "metadata": {},
   "outputs": [
    {
     "name": "stdout",
     "output_type": "stream",
     "text": [
      "[a,b,c] = [0.9245311 1.0281004 1.0285794]\n",
      "[a,b,c] = [3.6659741 0.7369278 1.47702  ]\n",
      "[a,b,c] = [ 4.6075196   0.64890194 -0.34829882]\n",
      "[a,b,c] = [4.789058   0.47604424 0.0512103 ]\n",
      "[a,b,c] = [4.440772   0.42658255 1.0304182 ]\n",
      "[a,b,c] = [4.16819    0.45848596 1.5258653 ]\n",
      "[a,b,c] = [4.1071067 0.5047258 1.4476546]\n",
      "[a,b,c] = [4.224653   0.53116935 1.0519158 ]\n",
      "[a,b,c] = [4.369112  0.525137  0.7482211]\n",
      "[a,b,c] = [4.4218307 0.50239   0.7352028]\n",
      "final [a,b,c] = [4.377518   0.48618376 0.91443944]\n"
     ]
    }
   ],
   "source": [
    "\n",
    "for ii in range(200):\n",
    "    optimizer.minimize(problem, var_list=var_list)\n",
    "    if ii%20==0:\n",
    "        print(f'[a,b,c] = {problem.weights.numpy()}')\n",
    "\n",
    "print(f'final [a,b,c] = {problem.weights.numpy()}')"
   ]
  },
  {
   "cell_type": "markdown",
   "id": "bd920c14",
   "metadata": {},
   "source": [
    "As we can observe during the optimization we try to minimize the objective and respect the constraints. We already know that the optimized value for c is around 4; however, because of the constraints we applied it cannot get larger than one.\n",
    "\n",
    "Let's take a look at the fit and compare it with with the one we made without any constraint on the model."
   ]
  },
  {
   "cell_type": "code",
   "execution_count": 42,
   "id": "9761b1b2",
   "metadata": {},
   "outputs": [
    {
     "data": {
      "text/plain": [
       "<matplotlib.legend.Legend at 0x208884e2c10>"
      ]
     },
     "execution_count": 42,
     "metadata": {},
     "output_type": "execute_result"
    },
    {
     "data": {
      "image/png": "[encoded data removed]",
      "text/plain": [
       "<Figure size 432x288 with 1 Axes>"
      ]
     },
     "metadata": {
      "needs_background": "light"
     },
     "output_type": "display_data"
    }
   ],
   "source": [
    "weights = problem.weights\n",
    "x=np.arange(-2,2,.1)\n",
    "y_estimated_constraint = weights[0]*x**2 + weights[1]*x + weights[2]\n",
    "\n",
    "plt.scatter(X, y, label='training samples')\n",
    "plt.plot(x,y_estimated_constraint, color='r', label='the fit model with the constraints' )\n",
    "plt.plot(x,y_estimated_no_constraint, color='b', label='the fit model without constraint' )\n",
    "plt.ylabel('y'); plt.xlabel('X')\n",
    "plt.legend()"
   ]
  },
  {
   "cell_type": "markdown",
   "id": "09c22e51",
   "metadata": {},
   "source": [
    "It is apparent that the model with the constraint made a worse fit, because we did not let the c to get close to its optimal value..."
   ]
  },
  {
   "cell_type": "markdown",
   "id": "1b8f3b58",
   "metadata": {},
   "source": [
    "##### second scenario: constraint on the output"
   ]
  },
  {
   "cell_type": "markdown",
   "id": "7db427d4",
   "metadata": {},
   "source": [
    "As mentioned before, we may want to impose a constraint on some functions of the parameters. For example, on the output, or a function of the output.\n",
    "\n",
    "In the aforementioned curve fitting problem, let's assume we want the predicted values to be always larger than 7:\n",
    "$$ax^2 + bx+c > 7$$\n",
    "\n",
    "Then, we need to change the \"constraints\" method of the class; as you can see below, we benefit from the tf functionalities by finding the minimum value of the predictions and constraining it to be always larger than 7:"
   ]
  },
  {
   "cell_type": "code",
   "execution_count": 43,
   "id": "32718a27",
   "metadata": {},
   "outputs": [],
   "source": [
    "class SimpleConstrainedProblem(tfco.ConstrainedMinimizationProblem): # inheriting from the tfco.ConstrainedMinimizationProblem\n",
    "    def __init__(self, y, weights):\n",
    "        self.y = y\n",
    "        self.weights = weights\n",
    "        \n",
    "    @property\n",
    "    def num_constraints(self):\n",
    "        return 1 # we have only one constraint coming out of the constraints method\n",
    "    \n",
    "    def objective(self): # like before, nothing is changed here\n",
    "        predictions = tf.tensordot(X_ground_truth, self.weights, axes=1)\n",
    "        return tf.compat.v1.losses.mean_squared_error(labels=self.y,\n",
    "                                                     predictions=predictions)\n",
    "    \n",
    "    def constraints(self): \n",
    "        predictions = tf.tensordot(X_ground_truth, self.weights, axes=1)\n",
    "        min_value = tf.reduce_min(tf.tensordot(X_ground_truth, self.weights, axes=1))\n",
    "        constraint = 7- min_value  \n",
    "        return constraint"
   ]
  },
  {
   "cell_type": "code",
   "execution_count": 44,
   "id": "0d865f85",
   "metadata": {},
   "outputs": [],
   "source": [
    "## initializing the parameters\n",
    "weights = tf.Variable(tf.random_normal_initializer()(shape=[3], dtype=tf.float32))\n",
    "## instantiating the problem\n",
    "problem = SimpleConstrainedProblem(y_ground_truth, weights)"
   ]
  },
  {
   "cell_type": "code",
   "execution_count": 45,
   "id": "dc63db8b",
   "metadata": {},
   "outputs": [],
   "source": [
    "# from the TFCO interface\n",
    "optimizer = tfco.LagrangianOptimizer(tf.optimizers.Adagrad(learning_rate=1.),\n",
    "                                    num_constraints=problem.num_constraints)\n",
    "# all the parameters to be optimized, problem.trainable_variables contains a,b, and c and optimizer.trainable_variables() is\n",
    "# the Lagrangian multiplier\n",
    "var_list = list(problem.trainable_variables) + [optimizer.trainable_variables()]"
   ]
  },
  {
   "cell_type": "code",
   "execution_count": 46,
   "id": "9fa2eb6c",
   "metadata": {},
   "outputs": [
    {
     "name": "stdout",
     "output_type": "stream",
     "text": [
      "[a,b,c] = [1.0271437 1.1315038 1.0419413]\n",
      "[a,b,c] = [2.839767   0.19037513 5.3419385 ]\n",
      "[a,b,c] = [2.032863   0.07906467 7.460147  ]\n",
      "[a,b,c] = [1.3921748  0.17559315 8.711638  ]\n",
      "[a,b,c] = [1.1046395  0.30844155 9.027046  ]\n",
      "[a,b,c] = [1.1549597  0.42443675 8.619955  ]\n",
      "[a,b,c] = [1.4005811  0.52246606 7.851367  ]\n",
      "[a,b,c] = [1.7141855 0.5540685 7.061677 ]\n",
      "[a,b,c] = [1.9872538 0.535861  6.4749722]\n",
      "[a,b,c] = [2.154221   0.49008015 6.194872  ]\n",
      "final [a,b,c] = [2.1992474  0.43934372 6.2087727 ]\n"
     ]
    }
   ],
   "source": [
    "for ii in range(200):\n",
    "    optimizer.minimize(problem, var_list=var_list)\n",
    "    if ii%20==0:\n",
    "        print(f'[a,b,c] = {problem.weights.numpy()}')\n",
    "\n",
    "print(f'final [a,b,c] = {problem.weights.numpy()}')"
   ]
  },
  {
   "cell_type": "markdown",
   "id": "30428ad4",
   "metadata": {},
   "source": [
    "and by plotting:"
   ]
  },
  {
   "cell_type": "code",
   "execution_count": 47,
   "id": "18d0af54",
   "metadata": {},
   "outputs": [
    {
     "data": {
      "text/plain": [
       "<matplotlib.legend.Legend at 0x20888612790>"
      ]
     },
     "execution_count": 47,
     "metadata": {},
     "output_type": "execute_result"
    },
    {
     "data": {
      "image/png": "[encoded data removed]",
      "text/plain": [
       "<Figure size 432x288 with 1 Axes>"
      ]
     },
     "metadata": {
      "needs_background": "light"
     },
     "output_type": "display_data"
    }
   ],
   "source": [
    "weights = problem.weights\n",
    "x=np.arange(-2,2,.1)\n",
    "y_estimated_constraint = weights[0]*x**2 + weights[1]*x + weights[2]\n",
    "\n",
    "plt.scatter(X, y, label='training samples')\n",
    "plt.plot(x,y_estimated_constraint, color='r', label='the fit model with the constraints' )\n",
    "plt.plot(x,y_estimated_no_constraint, color='b', label='the fit model without constraint' )\n",
    "plt.ylabel('y'); plt.xlabel('X')\n",
    "plt.legend()"
   ]
  },
  {
   "cell_type": "markdown",
   "id": "37b6bedf",
   "metadata": {},
   "source": [
    "The red curve indicates the fit model with the constraint and it is apparent that the optimization has kept it above the threshold 7!"
   ]
  },
  {
   "cell_type": "markdown",
   "id": "cdc4abfe",
   "metadata": {},
   "source": [
    "### A more realistic example (constrained optimization) "
   ]
  },
  {
   "cell_type": "markdown",
   "id": "a2cabc3b",
   "metadata": {},
   "source": [
    "It is also a good practice to look at a more realistic scenario: *fitting a distribution*\n",
    "\n",
    "Each distribution is characterized by one or more parameters. For example, a normal distribution is described by mean and variance. Noting that if it is a multivariate normal distribution, mean is a vector and variance is a matrix, which is actually the covariance matrix.\n",
    "\n",
    "Let's start with a one dimensional data, and we want to fit a Gaussian on the data:\n"
   ]
  },
  {
   "cell_type": "code",
   "execution_count": 213,
   "id": "ac731760",
   "metadata": {},
   "outputs": [
    {
     "data": {
      "image/png": "[encoded data removed]",
      "text/plain": [
       "<Figure size 432x288 with 1 Axes>"
      ]
     },
     "metadata": {
      "needs_background": "light"
     },
     "output_type": "display_data"
    }
   ],
   "source": [
    "# making training data\n",
    "## assuming data is drawn from a normal distribution with mean=1 and std=2\n",
    "sample_size = 1000\n",
    "ground_truth_mean = 5\n",
    "ground_truth_std = 2\n",
    "X = np.random.normal(size=sample_size, loc=ground_truth_mean, scale=ground_truth_std)\n",
    "## adding some noise to make it more realsitic!\n",
    "X_ground_truth = (X + np.random.uniform(0,0.25,sample_size)).astype(np.float32)\n",
    "## and visualizing the data in a histogram form ...\n",
    "binwidth=0.2\n",
    "bins = plt.hist(X_ground_truth, bins=np.arange(min(X_ground_truth), max(X_ground_truth) + binwidth, binwidth))"
   ]
  },
  {
   "cell_type": "markdown",
   "id": "86c67a77",
   "metadata": {},
   "source": [
    "It is important to note that unlike the previous examples, we do not have any target/label to match the model predictions against them. We here would like to put the data $X$ in the following formula:\n",
    "\n",
    "$$ P(X) = \\frac{1}{\\sigma\\sqrt{2\\pi}}  \\exp\\left( -\\frac{1}{2}\\left(\\frac{X-\\mu}{\\sigma}\\right)^{\\!2}\\,\\right) $$\n",
    "\n",
    "and then find the parameters $\\sigma$ and $\\mu$ that maximizes the $P(X)$. \n",
    "\n",
    "Let's define the paramaters:\n"
   ]
  },
  {
   "cell_type": "code",
   "execution_count": 214,
   "id": "7a399dd2",
   "metadata": {},
   "outputs": [],
   "source": [
    "## initializing the parameters with mean=0, and std=1\n",
    "mu = tf.Variable([0], dtype=tf.float32, name='mean')\n",
    "sigma = tf.Variable([1], dtype=tf.float32, name='standard dev')"
   ]
  },
  {
   "cell_type": "markdown",
   "id": "b5142c73",
   "metadata": {},
   "source": [
    "TF follows a minimization procedure. Maximizng $P(X)$ equates to minimizing $-ln P(X)$, which is called *negative log-likeloood*.\n",
    "\n",
    "$$ -ln P(X) = \\frac{1}{2}  \\left(\\frac{X-\\mu}{\\sigma}\\right)^{\\!2}\\ +\\frac{1}{2}ln2\\pi + ln\\sigma$$\n",
    "\n",
    "In the optimization only the terms that include the parameters $\\sigma$ and $\\mu$ are important, so:"
   ]
  },
  {
   "cell_type": "code",
   "execution_count": 215,
   "id": "a0882e21",
   "metadata": {},
   "outputs": [],
   "source": [
    "def objective():\n",
    "    negative_log_like = 0.5*tf.math.square((X_ground_truth - mu)/sigma) + tf.math.log(sigma) # the term 0.2*ln(2*pi) is ignored \n",
    "    return tf.math.reduce_mean(negative_log_like)"
   ]
  },
  {
   "cell_type": "markdown",
   "id": "12d320f9",
   "metadata": {},
   "source": [
    "Now we should impose the constraint; we know that standard deviation cannot be negative so the constraint is:\n",
    "\n",
    "$$ \\sigma > 0$$\n",
    "\n",
    "then, as we learned in the previous example we make the problem class:"
   ]
  },
  {
   "cell_type": "code",
   "execution_count": 216,
   "id": "6ccd4849",
   "metadata": {},
   "outputs": [],
   "source": [
    "class GaussianFitProblem(tfco.ConstrainedMinimizationProblem): # inheriting from the tfco.ConstrainedMinimizationProblem\n",
    "    def __init__(self, mu, sigma):\n",
    "        self.mu = mu\n",
    "        self.sigma = sigma\n",
    "        \n",
    "    @property\n",
    "    def num_constraints(self):\n",
    "        return 1 # this refers to the 1 equation we derived for the constraint on standard deviation\n",
    "    \n",
    "    def objective(self):\n",
    "        negative_log_like = 0.5*tf.math.square((X_ground_truth - self.mu)/self.sigma) + tf.math.log(self.sigma)\n",
    "        return tf.math.reduce_mean(negative_log_like)\n",
    "    \n",
    "    def constraints(self): \n",
    "        constraint = -self.sigma\n",
    "        return constraint"
   ]
  },
  {
   "cell_type": "code",
   "execution_count": 217,
   "id": "3b318119",
   "metadata": {},
   "outputs": [],
   "source": [
    "## instantiating the problem\n",
    "problem = GaussianFitProblem(mu, sigma)"
   ]
  },
  {
   "cell_type": "code",
   "execution_count": 218,
   "id": "d669d96e",
   "metadata": {},
   "outputs": [],
   "source": [
    "# from the TFCO interface\n",
    "optimizer = tfco.LagrangianOptimizer(tf.optimizers.Adagrad(learning_rate=1.),\n",
    "                                    num_constraints=problem.num_constraints)\n",
    "# all the parameters to be optimized, problem.trainable_variables contains mu and sigma and optimizer.trainable_variables() is\n",
    "# the Lagrangian multiplier\n",
    "var_list = list(problem.trainable_variables) + [optimizer.trainable_variables()]"
   ]
  },
  {
   "cell_type": "code",
   "execution_count": 219,
   "id": "acd48b70",
   "metadata": {},
   "outputs": [
    {
     "name": "stdout",
     "output_type": "stream",
     "text": [
      "[mu, sigma] = (array([0.9981443], dtype=float32), array([1.999944], dtype=float32))\n",
      "[mu, sigma] = (array([3.0546377], dtype=float32), array([2.4771192], dtype=float32))\n",
      "[mu, sigma] = (array([3.9509382], dtype=float32), array([2.5012531], dtype=float32))\n",
      "[mu, sigma] = (array([4.471695], dtype=float32), array([2.4483726], dtype=float32))\n",
      "[mu, sigma] = (array([4.783719], dtype=float32), array([2.3760448], dtype=float32))\n",
      "[mu, sigma] = (array([4.9669943], dtype=float32), array([2.3036888], dtype=float32))\n",
      "[mu, sigma] = (array([5.070661], dtype=float32), array([2.2387447], dtype=float32))\n",
      "[mu, sigma] = (array([5.126819], dtype=float32), array([2.1836987], dtype=float32))\n",
      "[mu, sigma] = (array([5.1559696], dtype=float32), array([2.1387799], dtype=float32))\n",
      "[mu, sigma] = (array([5.1705246], dtype=float32), array([2.1031654], dtype=float32))\n",
      "final [mu,sigma] = (array([5.177309], dtype=float32), array([2.0767848], dtype=float32))\n"
     ]
    }
   ],
   "source": [
    "for ii in range(200):\n",
    "    optimizer.minimize(problem, var_list=var_list)\n",
    "    if ii%20==0:\n",
    "        print(f'[mu, sigma] = {problem.mu.numpy(),problem.sigma.numpy()}')\n",
    "\n",
    "print(f'final [mu,sigma] = {problem.mu.numpy(),problem.sigma.numpy()}')"
   ]
  },
  {
   "cell_type": "code",
   "execution_count": 220,
   "id": "28861536",
   "metadata": {},
   "outputs": [
    {
     "data": {
      "text/plain": [
       "<matplotlib.legend.Legend at 0x208926ad430>"
      ]
     },
     "execution_count": 220,
     "metadata": {},
     "output_type": "execute_result"
    },
    {
     "data": {
      "image/png": "[encoded data removed]",
      "text/plain": [
       "<Figure size 432x288 with 1 Axes>"
      ]
     },
     "metadata": {
      "needs_background": "light"
     },
     "output_type": "display_data"
    }
   ],
   "source": [
    "# we may now look at the fit:\n",
    "bins = plt.hist(X_ground_truth, bins=np.arange(min(X_ground_truth), max(X_ground_truth) + binwidth, binwidth),\n",
    "               density=True)\n",
    "x_ = np.arange(-2,12,.1)\n",
    "plt.plot(x_, norm.pdf(x_,problem.mu.numpy(),problem.sigma.numpy()), color='red', label='Gaussian fit')\n",
    "plt.legend()"
   ]
  },
  {
   "cell_type": "code",
   "execution_count": null,
   "id": "1df16dde",
   "metadata": {},
   "outputs": [],
   "source": []
  },
  {
   "cell_type": "code",
   "execution_count": null,
   "id": "de11d816",
   "metadata": {},
   "outputs": [],
   "source": []
  }
 ],
 "metadata": {
  "colab": {
   "include_colab_link": true,
   "provenance": []
  },
  "kernelspec": {
   "display_name": "Python 3 (ipykernel)",
   "language": "python",
   "name": "python3"
  },
  "language_info": {
   "codemirror_mode": {
    "name": "ipython",
    "version": 3
   },
   "file_extension": ".py",
   "mimetype": "text/x-python",
   "name": "python",
   "nbconvert_exporter": "python",
   "pygments_lexer": "ipython3",
   "version": "3.9.12"
  },
  "vscode": {
   "interpreter": {
    "hash": "33ed28e8501cc94204744aa3f22f2f5845bcebf02265a7c58f0a1915ed879b71"
   }
  }
 },
 "nbformat": 4,
 "nbformat_minor": 5
}
