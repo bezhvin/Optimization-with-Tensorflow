{
 "cells": [
  {
   "cell_type": "markdown",
   "id": "32866f66",
   "metadata": {
    "colab_type": "text",
    "id": "view-in-github"
   },
   "source": [
    "<a href=\"https://colab.research.google.com/github/bezhvin/Optimization-with-Tensorflow/blob/main/SimpleExampleNoConstraint.ipynb\" target=\"_parent\"><img src=\"https://colab.research.google.com/assets/colab-badge.svg\" alt=\"Open In Colab\"/></a>"
   ]
  },
  {
   "cell_type": "code",
   "execution_count": 151,
   "id": "28fac8df",
   "metadata": {
    "id": "28fac8df"
   },
   "outputs": [],
   "source": [
    "import math\n",
    "import numpy as np\n",
    "from six.moves import xrange\n",
    "import tensorflow as tf\n",
    "import matplotlib.pyplot as plt\n",
    "from IPython.display import display, Math, Latex"
   ]
  },
  {
   "cell_type": "code",
   "execution_count": 152,
   "id": "ce91f13c",
   "metadata": {
    "id": "ce91f13c"
   },
   "outputs": [],
   "source": [
    "#!pip install git+https://github.com/google-research/tensorflow_constrained_optimization\n",
    "import tensorflow_constrained_optimization as tfco"
   ]
  },
  {
   "cell_type": "markdown",
   "id": "763f79dd",
   "metadata": {
    "id": "763f79dd"
   },
   "source": [
    "### Simple non constrained optimization"
   ]
  },
  {
   "cell_type": "markdown",
   "id": "54b18ef4",
   "metadata": {
    "id": "54b18ef4"
   },
   "source": [
    "Let's start with a simple example of fitting some coefficients for a quadratic function:\n",
    "$$y = ax^2 + bx+c$$\n",
    "This is basically a simple plynomial fitting and can be done mathematically as it is a convex optimization. But for the sake of illustration let's assume we want to the find proper prameters ${a,b,c}$ via some iterative gradient based optimization.\n",
    "Assuming the ground truth parameters are ${a=3, b=.5, and\\ c=4}$, we have\n",
    "$$y = 3x^2 + .5x+4$$\n",
    "Let's generate the training data with 50 samples:"
   ]
  },
  {
   "cell_type": "code",
   "execution_count": 153,
   "id": "9e60843e",
   "metadata": {
    "colab": {
     "base_uri": "https://localhost:8080/",
     "height": 296
    },
    "id": "9e60843e",
    "outputId": "ed924bf3-31cf-49dd-cb6f-7e7188e438c8"
   },
   "outputs": [
    {
     "data": {
      "text/plain": [
       "Text(0.5, 0, 'X')"
      ]
     },
     "execution_count": 153,
     "metadata": {},
     "output_type": "execute_result"
    },
    {
     "data": {
      "image/png": "[encoded data removed]",
      "text/plain": [
       "<Figure size 432x288 with 1 Axes>"
      ]
     },
     "metadata": {
      "needs_background": "light"
     },
     "output_type": "display_data"
    }
   ],
   "source": [
    "training_size = 50\n",
    "y_clean = lambda x: 3*x**2 + .5*x + 4 \n",
    "\n",
    "## randomly generating X\n",
    "X= np.random.uniform(low=-2, high=2,size=training_size).astype(np.float32) ## input \n",
    "## and then generating the corresponding y\n",
    "y = y_clean(X) + np.random.normal(size=training_size).astype(np.float32) # output --> we added some noise to make it more realistic\n",
    "## how does it look like?\n",
    "plt.scatter(X, y)\n",
    "plt.ylabel('y'); plt.xlabel('X')"
   ]
  },
  {
   "cell_type": "markdown",
   "id": "cc04250e",
   "metadata": {
    "id": "cc04250e"
   },
   "source": [
    "First, it is helpful to rewrite the problem in a matrix multiplication format \n",
    "$$y = AX $$\n",
    "this helps the code to be cleaner and is more inline with what tensorflow expects. In general we know computers are good at matrix multiplication so we always should try to frame our problems in this way!\n",
    "Thus, we can rewrite it as:\n",
    "\n",
    "$$\n",
    "y = \\begin{bmatrix}  \n",
    "a & b & c  \n",
    "\\end{bmatrix} \n",
    "\\begin{bmatrix}  \n",
    "x^2\\\\  \n",
    "x\\\\  \n",
    "1\\\\  \n",
    "\\end{bmatrix}$$"
   ]
  },
  {
   "cell_type": "code",
   "execution_count": 154,
   "id": "52d00341",
   "metadata": {
    "id": "52d00341"
   },
   "outputs": [],
   "source": [
    "# y=AX\n",
    "X_matrix = np.array([X**2, X, np.ones(X.size)]).T"
   ]
  },
  {
   "cell_type": "code",
   "execution_count": 155,
   "id": "48b39f74",
   "metadata": {
    "id": "48b39f74"
   },
   "outputs": [],
   "source": [
    "# making constant tensors for the training data\n",
    "y_ground_truth = tf.constant(y, dtype=tf.float32)\n",
    "X_ground_truth = tf.constant(X_matrix, dtype=tf.float32)"
   ]
  },
  {
   "cell_type": "code",
   "execution_count": 97,
   "id": "6c6ff572",
   "metadata": {
    "id": "6c6ff572"
   },
   "outputs": [],
   "source": [
    "# initializing the parameters a,b,and c as tensor variables\n",
    "# this is the variable which will be updated during the optimization\n",
    "weights = tf.Variable(tf.random_normal_initializer()(shape=[3], dtype=tf.float32))"
   ]
  },
  {
   "cell_type": "code",
   "execution_count": 98,
   "id": "13bbebd8",
   "metadata": {
    "id": "13bbebd8"
   },
   "outputs": [],
   "source": [
    "# the estimated y (or prediction for y) using the weights we want to optimize\n",
    "y_prediction = tf.tensordot(X_ground_truth, weights, axes=1)"
   ]
  },
  {
   "cell_type": "markdown",
   "id": "3585d002",
   "metadata": {
    "id": "3585d002"
   },
   "source": [
    "To optimize the parameters we need to define an objective function. actually we optimize the parameters with respect to this objective function. In our example, the least square could be helpful:\n",
    "$$ mean((y - y_{prediction})^2) $$"
   ]
  },
  {
   "cell_type": "code",
   "execution_count": 99,
   "id": "b9a78197",
   "metadata": {
    "id": "b9a78197"
   },
   "outputs": [],
   "source": [
    "## tensorflow has already made many of the known objective functions available, e.g. in tf.compat.v1.losses\n",
    "## but you may still wrtie down the objective formula yourself. Both ways are shown below\n",
    "def objective():\n",
    "    y_prediction = tf.tensordot(X_ground_truth, weights, axes=1)\n",
    "    return tf.math.reduce_mean((y_ground_truth - y_prediction)**2)\n",
    "#     return tf.compat.v1.losses.mean_squared_error(labels=y_ground_truth,\n",
    "#                                                  predictions=y_prediction)"
   ]
  },
  {
   "cell_type": "markdown",
   "id": "e448f57d",
   "metadata": {
    "id": "e448f57d"
   },
   "source": [
    "There are many gradient descent optimization algorithms and fortunately almost all are available in tensorflow. The choice of the algorithm depends on the task. In our example, all would work properly (some faster some slower)."
   ]
  },
  {
   "cell_type": "code",
   "execution_count": 100,
   "id": "dd6a290c",
   "metadata": {
    "colab": {
     "base_uri": "https://localhost:8080/"
    },
    "id": "dd6a290c",
    "outputId": "7244325f-987b-403a-a043-4016e52cad0f"
   },
   "outputs": [
    {
     "name": "stdout",
     "output_type": "stream",
     "text": [
      "the parameters are: [a, b, c] = [2.9655542 0.6874343 3.9416451]\n"
     ]
    }
   ],
   "source": [
    "# optimization\n",
    "optimizer = tf.keras.optimizers.Adagrad(learning_rate=1.0)\n",
    "var_list=[weights]\n",
    "for ii in range(100):\n",
    "    optimizer.minimize(objective, var_list=var_list)\n",
    "    #print(weights.numpy()) --> activate if you want to see how the parameters get updated\n",
    "print(f'the parameters are: [a, b, c] = {(weights.numpy())}')"
   ]
  },
  {
   "cell_type": "markdown",
   "id": "98a90565",
   "metadata": {
    "id": "98a90565"
   },
   "source": [
    "These parameters are close to the ground truth coefficients, right? the small difference is due to the noise we added to the training data.\n",
    "\n",
    "Let's look at the fit then:"
   ]
  },
  {
   "cell_type": "code",
   "execution_count": 101,
   "id": "c3da317f",
   "metadata": {},
   "outputs": [
    {
     "data": {
      "text/plain": [
       "<matplotlib.legend.Legend at 0x1d4712f15e0>"
      ]
     },
     "execution_count": 101,
     "metadata": {},
     "output_type": "execute_result"
    },
    {
     "data": {
      "image/png": "[encoded data removed]",
      "text/plain": [
       "<Figure size 432x288 with 1 Axes>"
      ]
     },
     "metadata": {
      "needs_background": "light"
     },
     "output_type": "display_data"
    }
   ],
   "source": [
    "x=np.arange(-2,2,.1)\n",
    "y_estimated_no_constraint = weights[0]*x**2 + weights[1]*x + weights[2]\n",
    "\n",
    "plt.scatter(X, y, label='training samples')\n",
    "plt.plot(x,y_estimated_no_constraint, color='r', label='the fit model' )\n",
    "plt.ylabel('y'); plt.xlabel('X')\n",
    "plt.legend()"
   ]
  },
  {
   "cell_type": "markdown",
   "id": "118199e1",
   "metadata": {},
   "source": [
    "### Simple constrained optimization"
   ]
  },
  {
   "cell_type": "markdown",
   "id": "4ae83aa4",
   "metadata": {},
   "source": [
    "With constrained optimization you impose some constraints on the problem. It may be done in different ways; for example, you may want some parameters to be in a certain range, or a function of the paramaters follow a certain equation.\n",
    "Thanks to the TFCO interface, it is somewhat straightforward to implement. Let's try it then!\n",
    "\n",
    "\n",
    "In this section we practice two scenarios by imposing constraints on the curve fitting example above.\n",
    "In the first scenario, the constraint is directly applied on one of the parameters, say $c$ to be between  0 and 1:\n",
    "$$0<c<1$$\n",
    "\n",
    "before jumping into the code, let's highlight some points on how to frame your constrained optimization with TFCO:\n",
    "\n",
    "* The constraints should be formed as $a<0$. Therefore in this example, we have\n",
    "$$-c<0$$\n",
    "$$c-1<0$$\n",
    "thus, you are having 2 constraints from the TFCO view!\n",
    "* If you have multiple constraints, you need to stack them all.\n",
    "* We still use one of the gradient based optimization algorithms; however, in the framework of LagrangianOptimizer.\n",
    "* The LagrangianOptimizer introduces another coefficient (Lagrangian multiplier), which should be optimized together to the updatable parameters.\n",
    "\n",
    "Let's see how we can implement it. Please also note to the comments in the code."
   ]
  },
  {
   "cell_type": "code",
   "execution_count": 144,
   "id": "161aeb34",
   "metadata": {
    "id": "161aeb34"
   },
   "outputs": [],
   "source": [
    "# lets assume 0<c<1:\n",
    "class SimpleConstrainedProblem(tfco.ConstrainedMinimizationProblem): # inheriting from the tfco.ConstrainedMinimizationProblem\n",
    "    def __init__(self, y, weights):\n",
    "        self.y = y\n",
    "        self.weights = weights\n",
    "        \n",
    "    @property\n",
    "    def num_constraints(self):\n",
    "        return 2 # this refers to the 2 equations we derived for the constraints on c\n",
    "    \n",
    "    def objective(self): # like before, nothing is changed here\n",
    "        predictions = tf.tensordot(X_ground_truth, self.weights, axes=1)\n",
    "        return tf.compat.v1.losses.mean_squared_error(labels=self.y,\n",
    "                                                     predictions=predictions)\n",
    "    \n",
    "    def constraints(self): \n",
    "        a,b,c = self.weights\n",
    "        constraint_1 = c - 1 # constraint1 is c-1 < 0\n",
    "        constraint_2 = -c    # constraint2 is -c < 0\n",
    "        constraint = tf.stack([constraint_1, constraint_2]) # stacking the constraints\n",
    "        return constraint\n",
    "    "
   ]
  },
  {
   "cell_type": "code",
   "execution_count": 145,
   "id": "25c33598",
   "metadata": {},
   "outputs": [],
   "source": [
    "## initializing the parameters\n",
    "weights = tf.Variable(tf.random_normal_initializer()(shape=[3], dtype=tf.float32))\n",
    "## instantiating the problem\n",
    "problem = SimpleConstrainedProblem(y_ground_truth, weights)"
   ]
  },
  {
   "cell_type": "code",
   "execution_count": 149,
   "id": "20a6979d",
   "metadata": {},
   "outputs": [],
   "source": [
    "# from the TFCO interface\n",
    "optimizer = tfco.LagrangianOptimizer(tf.optimizers.Adagrad(learning_rate=1.),\n",
    "                                    num_constraints=problem.num_constraints)\n",
    "# all the parameters to be optimized, problem.trainable_variables contains a,b, and c and optimizer.trainable_variables() is\n",
    "# the Lagrangian multiplier\n",
    "var_list = list(problem.trainable_variables) + [optimizer.trainable_variables()]"
   ]
  },
  {
   "cell_type": "code",
   "execution_count": 150,
   "id": "c65f97ca",
   "metadata": {},
   "outputs": [
    {
     "name": "stdout",
     "output_type": "stream",
     "text": [
      "[a,b,c] = [4.365923   0.47002172 2.0670886 ]\n",
      "[a,b,c] = [4.5727115  0.44765386 0.8080002 ]\n",
      "[a,b,c] = [4.4595523  0.4595222  0.92181873]\n",
      "[a,b,c] = [4.411232   0.46768096 1.0320681 ]\n",
      "[a,b,c] = [4.430727   0.46492332 0.9981834 ]\n",
      "[a,b,c] = [4.4296837  0.46497193 0.9980297 ]\n",
      "[a,b,c] = [4.428471   0.46516722 1.0006098 ]\n",
      "[a,b,c] = [4.4288406  0.46511665 1.0000012 ]\n",
      "[a,b,c] = [4.428843   0.46511403 0.9999537 ]\n",
      "[a,b,c] = [4.428815   0.46511844 1.0000107 ]\n",
      "final [a,b,c] = [4.4288216 0.4651177 1.       ]\n"
     ]
    }
   ],
   "source": [
    "\n",
    "for ii in range(200):\n",
    "    optimizer.minimize(problem, var_list=var_list)\n",
    "    if ii%20==0:\n",
    "        print(f'[a,b,c] = {problem.weights.numpy()}')\n",
    "\n",
    "print(f'final [a,b,c] = {problem.weights.numpy()}')"
   ]
  },
  {
   "cell_type": "markdown",
   "id": "ae0b4a2c",
   "metadata": {},
   "source": [
    "As we can observe during the optimization we try to minimize the objective and respect the constraints. We already know that the optimized value for c is around 4; however, because of the constraints we applied it cannot get larger than one.\n",
    "\n",
    "Let's take a look at the fit and compare it with with the one we made without any constraint on the model."
   ]
  },
  {
   "cell_type": "code",
   "execution_count": 148,
   "id": "c27db50c",
   "metadata": {},
   "outputs": [
    {
     "data": {
      "text/plain": [
       "<matplotlib.legend.Legend at 0x1d47362a910>"
      ]
     },
     "execution_count": 148,
     "metadata": {},
     "output_type": "execute_result"
    },
    {
     "data": {
      "image/png": "[encoded data removed]",
      "text/plain": [
       "<Figure size 432x288 with 1 Axes>"
      ]
     },
     "metadata": {
      "needs_background": "light"
     },
     "output_type": "display_data"
    }
   ],
   "source": [
    "weights = problem.weights\n",
    "x=np.arange(-2,2,.1)\n",
    "y_estimated_constraint = weights[0]*x**2 + weights[1]*x + weights[2]\n",
    "\n",
    "plt.scatter(X, y, label='training samples')\n",
    "plt.plot(x,y_estimated_constraint, color='r', label='the fit model with constraint' )\n",
    "plt.plot(x,y_estimated_no_constraint, color='b', label='the fit model without constraint' )\n",
    "plt.ylabel('y'); plt.xlabel('X')\n",
    "plt.legend()"
   ]
  },
  {
   "cell_type": "markdown",
   "id": "ef7e12c2",
   "metadata": {},
   "source": [
    "It is apparent that the model with the constraint made a worse fit, because we did not let the c to get close to its optimal value..."
   ]
  },
  {
   "cell_type": "code",
   "execution_count": null,
   "id": "ecf160a4",
   "metadata": {},
   "outputs": [],
   "source": []
  }
 ],
 "metadata": {
  "colab": {
   "include_colab_link": true,
   "provenance": []
  },
  "kernelspec": {
   "display_name": "Python 3 (ipykernel)",
   "language": "python",
   "name": "python3"
  },
  "language_info": {
   "codemirror_mode": {
    "name": "ipython",
    "version": 3
   },
   "file_extension": ".py",
   "mimetype": "text/x-python",
   "name": "python",
   "nbconvert_exporter": "python",
   "pygments_lexer": "ipython3",
   "version": "3.9.12"
  },
  "vscode": {
   "interpreter": {
    "hash": "33ed28e8501cc94204744aa3f22f2f5845bcebf02265a7c58f0a1915ed879b71"
   }
  }
 },
 "nbformat": 4,
 "nbformat_minor": 5
}
