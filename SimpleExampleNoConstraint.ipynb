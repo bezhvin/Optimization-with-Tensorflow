{
  "cells": [
    {
      "cell_type": "markdown",
      "metadata": {
        "id": "view-in-github",
        "colab_type": "text"
      },
      "source": [
        "<a href=\"https://colab.research.google.com/github/bezhvin/Optimization-with-Tensorflow/blob/main/SimpleExampleNoConstraint.ipynb\" target=\"_parent\"><img src=\"https://colab.research.google.com/assets/colab-badge.svg\" alt=\"Open In Colab\"/></a>"
      ]
    },
    {
      "cell_type": "code",
      "execution_count": 1,
      "id": "28fac8df",
      "metadata": {
        "id": "28fac8df"
      },
      "outputs": [],
      "source": [
        "import math\n",
        "import numpy as np\n",
        "from six.moves import xrange\n",
        "import tensorflow as tf\n",
        "import matplotlib.pyplot as plt\n",
        "from IPython.display import display, Math, Latex"
      ]
    },
    {
      "cell_type": "code",
      "execution_count": 4,
      "id": "ce91f13c",
      "metadata": {
        "id": "ce91f13c"
      },
      "outputs": [],
      "source": [
        "#!pip install git+https://github.com/google-research/tensorflow_constrained_optimization\n",
        "#import tensorflow_constrained_optimization as tfco"
      ]
    },
    {
      "cell_type": "markdown",
      "id": "763f79dd",
      "metadata": {
        "id": "763f79dd"
      },
      "source": [
        "### simple non constrained opttimization"
      ]
    },
    {
      "cell_type": "markdown",
      "id": "54b18ef4",
      "metadata": {
        "id": "54b18ef4"
      },
      "source": [
        "Let's start with a simple example of fitting some coefficients for a quadratic function:\n",
        "$$y = ax^2 + bx+c$$\n",
        "This is basically a simple plynomial fitting and can be done mathematically as it is a convex optimization. But for the sake of illustration let's assume we want to the find proper prameters ${a,b,c}$ via some iterative gradient based optimization.\n",
        "Assuming the ground truth parameters are ${a=3, b=.5, and\\ c=4}$, we have\n",
        "$$y = 3x^2 + .5x+4$$\n",
        "Let's generate the training data with 50 samples:"
      ]
    },
    {
      "cell_type": "code",
      "execution_count": 5,
      "id": "9e60843e",
      "metadata": {
        "colab": {
          "base_uri": "https://localhost:8080/",
          "height": 296
        },
        "id": "9e60843e",
        "outputId": "ed924bf3-31cf-49dd-cb6f-7e7188e438c8"
      },
      "outputs": [
        {
          "output_type": "execute_result",
          "data": {
            "text/plain": [
              "Text(0.5, 0, 'X')"
            ]
          },
          "metadata": {},
          "execution_count": 5
        },
        {
          "output_type": "display_data",
          "data": {
            "text/plain": [
              "<Figure size 432x288 with 1 Axes>"
            ],
            "image/png": "[encoded data removed]"
          },
          "metadata": {
            "needs_background": "light"
          }
        }
      ],
      "source": [
        "training_size = 50\n",
        "y_clean = lambda x: 3*x**2 + .5*x + 4 \n",
        "\n",
        "## randomly generating X\n",
        "X= np.random.uniform(low=-2, high=2,size=training_size).astype(np.float32) ## input \n",
        "## and then generating the corresponding y\n",
        "y = y_clean(X) + np.random.normal(size=training_size).astype(np.float32) # output --> we added some noise to make it more realistic\n",
        "## how does it look like?\n",
        "plt.scatter(X, y)\n",
        "plt.ylabel('y'); plt.xlabel('X')"
      ]
    },
    {
      "cell_type": "markdown",
      "id": "cc04250e",
      "metadata": {
        "id": "cc04250e"
      },
      "source": [
        "First, it is helpful to rewrite the problem in a matrix multiplication format \n",
        "$$y = AX $$\n",
        "this helps the code to be cleaner and is more inline wit what tensorflow expect. In general we know computers are good at matrix multiplication so we always should try to frame our problems in in this way!\n",
        "Thus, we can rewrite it as:\n",
        "\n",
        "$$\n",
        "y = \\begin{bmatrix}  \n",
        "a & b & c  \n",
        "\\end{bmatrix} \n",
        "\\begin{bmatrix}  \n",
        "x^2\\\\  \n",
        "x\\\\  \n",
        "1\\\\  \n",
        "\\end{bmatrix}$$"
      ]
    },
    {
      "cell_type": "code",
      "execution_count": 6,
      "id": "52d00341",
      "metadata": {
        "id": "52d00341"
      },
      "outputs": [],
      "source": [
        "# y=AX\n",
        "X_matrix = np.array([X**2, X, np.ones(X.size)]).T"
      ]
    },
    {
      "cell_type": "code",
      "execution_count": 7,
      "id": "48b39f74",
      "metadata": {
        "id": "48b39f74"
      },
      "outputs": [],
      "source": [
        "# making constant tensors for the training data\n",
        "y_ground_truth = tf.constant(y, dtype=tf.float32)\n",
        "X_ground_truth = tf.constant(X_matrix, dtype=tf.float32)"
      ]
    },
    {
      "cell_type": "code",
      "execution_count": 8,
      "id": "6c6ff572",
      "metadata": {
        "id": "6c6ff572"
      },
      "outputs": [],
      "source": [
        "# initializing the parameters a,b,and c as tensor variables\n",
        "# this is the variable which will be updated during the optimization\n",
        "weights = tf.Variable(tf.random_normal_initializer()(shape=[3], dtype=tf.float32))"
      ]
    },
    {
      "cell_type": "code",
      "execution_count": 9,
      "id": "13bbebd8",
      "metadata": {
        "id": "13bbebd8"
      },
      "outputs": [],
      "source": [
        "# the estimated y (or prediction for y) using the weights we want to optimize\n",
        "y_prediction = tf.tensordot(X_ground_truth, weights, axes=1)"
      ]
    },
    {
      "cell_type": "markdown",
      "id": "3585d002",
      "metadata": {
        "id": "3585d002"
      },
      "source": [
        "To optimize the parameters we need to define an objective function. actually we optimize the parameters with respect to this objective function. In our example, the least square could be helpful:\n",
        "$$ mean((y - y_{prediction})^2) $$"
      ]
    },
    {
      "cell_type": "code",
      "execution_count": 10,
      "id": "b9a78197",
      "metadata": {
        "id": "b9a78197"
      },
      "outputs": [],
      "source": [
        "## tensorflow has already made many of the known objective functions available, e.g. in tf.compat.v1.losses\n",
        "## but you may still wrtie down the objective formula yourself. Both ways are shown below\n",
        "def objective():\n",
        "    y_prediction = tf.tensordot(X_ground_truth, weights, axes=1)\n",
        "    return tf.math.reduce_mean((y_ground_truth - y_prediction)**2)\n",
        "#     return tf.compat.v1.losses.mean_squared_error(labels=y_ground_truth,\n",
        "#                                                  predictions=y_prediction)"
      ]
    },
    {
      "cell_type": "markdown",
      "id": "e448f57d",
      "metadata": {
        "id": "e448f57d"
      },
      "source": [
        "There are many gradient descent optimization algorithms and fortunately almost all are available in tensorflow. The choice of the algorithm depends on the task. In our example, all would work properly (some faster some slower)."
      ]
    },
    {
      "cell_type": "code",
      "execution_count": 11,
      "id": "dd6a290c",
      "metadata": {
        "colab": {
          "base_uri": "https://localhost:8080/"
        },
        "id": "dd6a290c",
        "outputId": "7244325f-987b-403a-a043-4016e52cad0f"
      },
      "outputs": [
        {
          "output_type": "stream",
          "name": "stdout",
          "text": [
            "the parameters are: [a, b, c] = [2.9300997 0.6277682 4.034717 ]\n"
          ]
        }
      ],
      "source": [
        "# optimization\n",
        "optimizer = tf.keras.optimizers.Adagrad(learning_rate=1.0)\n",
        "var_list=[weights]\n",
        "for ii in range(100):\n",
        "    optimizer.minimize(objective, var_list=var_list)\n",
        "    #print(weights.numpy()) --> activate if you want to see how the parameters get updated\n",
        "print(f'the parameters are: [a, b, c] = {(weights.numpy())}')"
      ]
    },
    {
      "cell_type": "markdown",
      "id": "98a90565",
      "metadata": {
        "id": "98a90565"
      },
      "source": [
        "These parameters are close to the ground truth coefficients, right? the small difference is due to the noise we added to the training data."
      ]
    },
    {
      "cell_type": "code",
      "execution_count": null,
      "id": "161aeb34",
      "metadata": {
        "id": "161aeb34"
      },
      "outputs": [],
      "source": []
    }
  ],
  "metadata": {
    "kernelspec": {
      "display_name": "Python 3 (ipykernel)",
      "language": "python",
      "name": "python3"
    },
    "language_info": {
      "codemirror_mode": {
        "name": "ipython",
        "version": 3
      },
      "file_extension": ".py",
      "mimetype": "text/x-python",
      "name": "python",
      "nbconvert_exporter": "python",
      "pygments_lexer": "ipython3",
      "version": "3.9.12"
    },
    "colab": {
      "provenance": [],
      "include_colab_link": true
    }
  },
  "nbformat": 4,
  "nbformat_minor": 5
}