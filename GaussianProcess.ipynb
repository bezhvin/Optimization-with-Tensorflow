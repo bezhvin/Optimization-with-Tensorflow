{
  "cells": [
    {
      "cell_type": "markdown",
      "metadata": {
        "id": "view-in-github",
        "colab_type": "text"
      },
      "source": [
        "<a href=\"https://colab.research.google.com/github/bezhvin/Optimization-with-Tensorflow/blob/main/GaussianProcess.ipynb\" target=\"_parent\"><img src=\"https://colab.research.google.com/assets/colab-badge.svg\" alt=\"Open In Colab\"/></a>"
      ]
    },
    {
      "cell_type": "code",
      "execution_count": null,
      "id": "8911bb01",
      "metadata": {
        "id": "8911bb01"
      },
      "outputs": [],
      "source": [
        "import numpy as np\n",
        "import matplotlib.pyplot as plt\n",
        "import tensorflow as tf\n",
        "import tensorflow_constrained_optimization as tfco\n",
        "import scipy"
      ]
    },
    {
      "cell_type": "markdown",
      "id": "b27e8c13",
      "metadata": {
        "id": "b27e8c13"
      },
      "source": [
        "To fully understand everything you may want to learn about Gaussian process first. Here the focus is on how to implement its optimization, so only a brief description is provided; feel free to check the literature.. \n",
        "\n",
        "\n",
        "Gaussian process defines a prior probability over functions. Given an arbitrary set of points $x_1,...,x_N$, the assumption is that the function values $y(x_1),...,y(x_N)$ jointly have a Gaussian distribution. The goal is to fit the parameters of this join distribution. The main trick is that the mean and covariance are defined as functions of $x$:\n",
        "$$ y(x) \\sim GP(m(x),k(x,x'))$$\n",
        "\n",
        "$k(x,x')$ is a kernel function which estimates the covariance and can be defined in different ways. The one we used in this example is:\n",
        "\n",
        "$$k(x,x') = \\theta_1 exp(-\\frac{||x-x'||^2}{2\\theta_2})$$\n",
        "\n",
        "And the optimization is to find out proper parameters $\\theta_1$ and $\\theta_2$; both of the parameters are positive, so we have two constraints.\n",
        "\n",
        "\n"
      ]
    },
    {
      "cell_type": "markdown",
      "id": "3891bb45",
      "metadata": {
        "id": "3891bb45"
      },
      "source": [
        "### Dataset generation"
      ]
    },
    {
      "cell_type": "code",
      "execution_count": null,
      "id": "06d300c5",
      "metadata": {
        "id": "06d300c5",
        "outputId": "aa6dc62a-247e-4d3b-f7bf-daad124b00aa"
      },
      "outputs": [
        {
          "data": {
            "text/plain": [
              "Text(0, 0.5, '$f(x)$')"
            ]
          },
          "execution_count": 2,
          "metadata": {},
          "output_type": "execute_result"
        },
        {
          "data": {
            "image/png": "[encoded data removed]",
            "text/plain": [
              "<Figure size 432x288 with 1 Axes>"
            ]
          },
          "metadata": {
            "needs_background": "light"
          },
          "output_type": "display_data"
        }
      ],
      "source": [
        "# Lets assume the generative process is the follwoing:\n",
        "y_process = lambda x: x * np.sin(x)\n",
        "x_full_range = np.linspace(start=0, stop=10, num=50).reshape(-1, 1)\n",
        "# and the samples drwan from this process are:\n",
        "X = np.linspace(start=0, stop=10, num=6).reshape(-1, 1)\n",
        "y = np.squeeze(y_process(X)).reshape(-1, 1)\n",
        "\n",
        "#plt.plot(np.arange(0,10,0.1))\n",
        "plt.plot(x_full_range, y_process(x_full_range), linestyle='--', label=r\"$f(x) =x\\sin(x)$\",)\n",
        "plt.plot(X, y, 'ko', label=r\"$(x,y)$\")\n",
        "plt.legend()\n",
        "plt.xlabel(\"$x$\")\n",
        "plt.ylabel(\"$f(x)$\")\n"
      ]
    },
    {
      "cell_type": "markdown",
      "id": "aa6d601d",
      "metadata": {
        "id": "aa6d601d"
      },
      "source": [
        "### Loss function"
      ]
    },
    {
      "cell_type": "markdown",
      "id": "8649098d",
      "metadata": {
        "id": "8649098d"
      },
      "source": [
        "The loss function is negative log likelihood, so we would like to find the parameters which fit a multivariate Gaussian distribution best:\n",
        "$$ -ln P(y|X,\\theta_1, \\theta_2) = -\\frac{1}{2}(y-\\mu_y)^T \\Sigma_{\\theta}^{-1}(y-\\mu_y) + \\frac{1}{2}ln|\\Sigma_\\theta|$$\n",
        "\n",
        "The loss function only shows the terms which are dependent on the trainable parameters. The code is:"
      ]
    },
    {
      "cell_type": "code",
      "execution_count": null,
      "id": "76542615",
      "metadata": {
        "id": "76542615"
      },
      "outputs": [],
      "source": [
        "def objective():\n",
        "    mean_y = lambda : np.mean(y_tr)\n",
        "    y_tr_norm = y_tr - mean_y()\n",
        "    Covariance = Kernel(X_tr,X_tr)\n",
        "    Kernel_inv = tf.linalg.inv(Covariance)\n",
        "    data_fit  = 0.5*tf.tensordot(tf.matmul(y_tr_norm, Kernel_inv, transpose_a=True), y_tr_norm, axes=1)\n",
        "    complexity_penalty = 0.5*tf.math.log(tf.linalg.det(Covariance))\n",
        "    return complexity_penalty + data_fit[0]"
      ]
    },
    {
      "cell_type": "markdown",
      "id": "b0a69621",
      "metadata": {
        "id": "b0a69621"
      },
      "source": [
        "Let's make the Kernel function:"
      ]
    },
    {
      "cell_type": "code",
      "execution_count": null,
      "id": "e2963382",
      "metadata": {
        "id": "e2963382"
      },
      "outputs": [],
      "source": [
        "def Kernel(x1,x2):\n",
        "    kernel = theta1 * tf.math.exp(-tf.math.squared_difference(x1,tf.transpose(x2))/2*theta2)\n",
        "    return kernel"
      ]
    },
    {
      "cell_type": "markdown",
      "id": "ba2d5d74",
      "metadata": {
        "id": "ba2d5d74"
      },
      "source": [
        "### Model fitting"
      ]
    },
    {
      "cell_type": "code",
      "execution_count": null,
      "id": "399742c5",
      "metadata": {
        "id": "399742c5"
      },
      "outputs": [],
      "source": [
        "# setting the data in TF constant form\n",
        "X_tr = tf.constant(X,dtype=tf.float32)\n",
        "y_tr = tf.constant(y, dtype=tf.float32)\n"
      ]
    },
    {
      "cell_type": "markdown",
      "id": "3d605a13",
      "metadata": {
        "id": "3d605a13"
      },
      "source": [
        "we can make the class now"
      ]
    },
    {
      "cell_type": "code",
      "execution_count": null,
      "id": "dc7d8431",
      "metadata": {
        "id": "dc7d8431"
      },
      "outputs": [],
      "source": [
        "class FitGP(tfco.ConstrainedMinimizationProblem):\n",
        "    def __init__(self, theta1, theta2):\n",
        "        self.theta1 = theta1\n",
        "        self.theta2 = theta2\n",
        "        \n",
        "    def Kernel(self,x1,x2):\n",
        "        kernel = self.theta1 * tf.math.exp(-tf.math.squared_difference(x1,tf.transpose(x2))/2*self.theta2)\n",
        "        return kernel\n",
        "        \n",
        "    def objective(self):\n",
        "        mean_y = lambda : np.mean(y_tr)\n",
        "        y_tr_norm = y_tr - mean_y()\n",
        "        Covariance = self.Kernel(X_tr,X_tr)\n",
        "        Kernel_inv = tf.linalg.inv(Covariance)\n",
        "        data_fit  = 0.5*tf.tensordot(tf.matmul(y_tr_norm, Kernel_inv, transpose_a=True), y_tr_norm, axes=1)\n",
        "        complexity_penalty = 0.5*tf.math.log(tf.linalg.det(Covariance))\n",
        "        return complexity_penalty + data_fit[0]\n",
        "    @property\n",
        "    def num_constraints(self):\n",
        "        return 2\n",
        "    \n",
        "    def constraints(self):\n",
        "        constraint1 = -self.theta1\n",
        "        constraint2 = -self.theta2\n",
        "        return tf.stack([constraint1, constraint2])\n",
        "    "
      ]
    },
    {
      "cell_type": "code",
      "execution_count": null,
      "id": "980d0e8f",
      "metadata": {
        "id": "980d0e8f"
      },
      "outputs": [],
      "source": [
        "# Initializing the parameters\n",
        "theta1= tf.Variable([1], dtype=tf.float32)\n",
        "theta2=tf.Variable([0.1],dtype=tf.float32)\n",
        "## Instantiating the problem\n",
        "problem = FitGP(theta1, theta2)"
      ]
    },
    {
      "cell_type": "code",
      "execution_count": null,
      "id": "b1dadab0",
      "metadata": {
        "id": "b1dadab0"
      },
      "outputs": [],
      "source": [
        "optim = tf.optimizers.Adagrad(1.)\n",
        "optimizer = tfco.LagrangianOptimizer(optim,\n",
        "                                    num_constraints=problem.num_constraints)\n",
        "var_list = list(problem.trainable_variables) + optimizer.trainable_variables()"
      ]
    },
    {
      "cell_type": "code",
      "execution_count": null,
      "id": "60a2dd60",
      "metadata": {
        "scrolled": true,
        "id": "60a2dd60",
        "outputId": "42466775-2695-4a0d-d1ec-3216ff3ef9b4"
      },
      "outputs": [
        {
          "name": "stdout",
          "output_type": "stream",
          "text": [
            "iteration 0, the objective is [15.394641] theta1 =[5.8358517], and theta2=[1.2401204]\n",
            "iteration 100, the objective is [15.322266] theta1 =[5.891232], and theta2=[1.242978]\n",
            "iteration 200, the objective is [15.253122] theta1 =[5.945333], and theta2=[1.2457886]\n",
            "iteration 300, the objective is [15.186982] theta1 =[5.998217], and theta2=[1.2485545]\n",
            "iteration 400, the objective is [15.1236315] theta1 =[6.049948], and theta2=[1.2512773]\n",
            "iteration 500, the objective is [15.062881] theta1 =[6.1005807], and theta2=[1.2539585]\n",
            "iteration 600, the objective is [15.004562] theta1 =[6.150166], and theta2=[1.2565998]\n",
            "iteration 700, the objective is [14.948518] theta1 =[6.198751], and theta2=[1.2592028]\n",
            "iteration 800, the objective is [14.894605] theta1 =[6.2463803], and theta2=[1.2617689]\n",
            "iteration 900, the objective is [14.842693] theta1 =[6.293097], and theta2=[1.2642993]\n"
          ]
        }
      ],
      "source": [
        "for ii in range(1000):\n",
        "    optimizer.minimize(problem, var_list)\n",
        "    if ii % 100 == 0:\n",
        "        print(f'iteration {ii}, the objective is {problem.objective()}', end=\"\")\n",
        "        print(f' theta1 ={problem.theta1.numpy()}, and theta2={problem.theta2.numpy()}')"
      ]
    },
    {
      "cell_type": "markdown",
      "id": "84b43c31",
      "metadata": {
        "id": "84b43c31"
      },
      "source": [
        "### Prediction"
      ]
    },
    {
      "cell_type": "markdown",
      "id": "fc141dd7",
      "metadata": {
        "id": "fc141dd7"
      },
      "source": [
        "Gaussian process is a regression model and we can predict the mean and standard deviation for any new given point $x_{test}$. The prediction function is provided below. For more information on how it is done, please refer to literature (e.g. https://peterroelants.github.io/posts/gaussian-process-tutorial/)"
      ]
    },
    {
      "cell_type": "code",
      "execution_count": null,
      "id": "3b56204f",
      "metadata": {
        "id": "3b56204f"
      },
      "outputs": [],
      "source": [
        "def predict(X_tr,y_tr, X_ts, mu_tr,mu_tst, kernel_func):\n",
        "    Sigma11 = kernel_func(X_tr, X_tr)\n",
        "    Sigma22 = kernel_func(X_tst, X_tst)\n",
        "    Sigma12 = kernel_func(X_tr, X_tst)\n",
        "    solved = scipy.linalg.solve(Sigma11, Sigma12, assume_a='pos').T\n",
        "    mu21 = mu_tst + solved @ (y_tr - mu_tr)\n",
        "    Sigma2 = Sigma22 - (solved @ Sigma12)\n",
        "    return mu21.numpy().ravel(), np.diag(Sigma2)"
      ]
    },
    {
      "cell_type": "code",
      "execution_count": null,
      "id": "52152e68",
      "metadata": {
        "id": "52152e68"
      },
      "outputs": [],
      "source": [
        "X_tst = np.linspace(start=0, stop=12, num=100).reshape(-1, 1)\n",
        "X_tst = tf.constant(X_tst, dtype=tf.float32)\n",
        "mu1 = mu2 = np.mean(y_tr)"
      ]
    },
    {
      "cell_type": "code",
      "execution_count": null,
      "id": "d7e64a23",
      "metadata": {
        "id": "d7e64a23"
      },
      "outputs": [],
      "source": [
        "mu21, Sigma2 = predict(X_tr,y_tr, X_tst, mu1,mu2, problem.Kernel)"
      ]
    },
    {
      "cell_type": "code",
      "execution_count": null,
      "id": "2657beaa",
      "metadata": {
        "id": "2657beaa",
        "outputId": "e6299cff-d2f2-4647-e26e-77e9e6673987"
      },
      "outputs": [
        {
          "data": {
            "text/plain": [
              "<matplotlib.legend.Legend at 0x1f8a011b1c0>"
            ]
          },
          "execution_count": 21,
          "metadata": {},
          "output_type": "execute_result"
        },
        {
          "data": {
            "image/png": "[encoded data removed]",
            "text/plain": [
              "<Figure size 432x432 with 1 Axes>"
            ]
          },
          "metadata": {
            "needs_background": "light"
          },
          "output_type": "display_data"
        }
      ],
      "source": [
        "fig, ax = plt.subplots(\n",
        "    nrows=1, ncols=1, figsize=(6, 6))\n",
        "ax.fill_between(X_tst.numpy().ravel().flat, mu21-2*Sigma2, mu21+2*Sigma2, color='red', \n",
        "                  alpha=0.15, label='$2 \\sigma_{2|1}:$ 95% confidence interval')\n",
        "ax.plot(X_tst, mu21, 'r-', lw=2, label='$\\mu_{2|1}$')\n",
        "ax.plot(X_tr, y_tr, 'ko', linewidth=2, label='$(x, y)$')\n",
        "ax.plot(X_tst, y_process(X_tst), linestyle='--', label='ground truth generative process')\n",
        "ax.set_xlabel('$x$', fontsize=13)\n",
        "ax.set_ylabel('$y$', fontsize=13)\n",
        "ax.legend()"
      ]
    },
    {
      "cell_type": "code",
      "execution_count": null,
      "id": "fe30cb5f",
      "metadata": {
        "id": "fe30cb5f"
      },
      "outputs": [],
      "source": []
    }
  ],
  "metadata": {
    "kernelspec": {
      "display_name": "Python 3 (ipykernel)",
      "language": "python",
      "name": "python3"
    },
    "language_info": {
      "codemirror_mode": {
        "name": "ipython",
        "version": 3
      },
      "file_extension": ".py",
      "mimetype": "text/x-python",
      "name": "python",
      "nbconvert_exporter": "python",
      "pygments_lexer": "ipython3",
      "version": "3.9.12"
    },
    "toc": {
      "base_numbering": 1,
      "nav_menu": {},
      "number_sections": true,
      "sideBar": true,
      "skip_h1_title": false,
      "title_cell": "Table of Contents",
      "title_sidebar": "Contents",
      "toc_cell": false,
      "toc_position": {},
      "toc_section_display": true,
      "toc_window_display": false
    },
    "colab": {
      "provenance": [],
      "include_colab_link": true
    }
  },
  "nbformat": 4,
  "nbformat_minor": 5
}